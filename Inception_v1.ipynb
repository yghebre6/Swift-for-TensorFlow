{
  "nbformat": 4,
  "nbformat_minor": 0,
  "metadata": {
    "colab": {
      "name": "Inception-v1.ipynb",
      "provenance": [],
      "collapsed_sections": [],
      "machine_shape": "hm",
      "include_colab_link": true
    },
    "kernelspec": {
      "display_name": "Swift",
      "name": "swift"
    }
  },
  "cells": [
    {
      "cell_type": "markdown",
      "metadata": {
        "id": "view-in-github",
        "colab_type": "text"
      },
      "source": [
        "<a href=\"https://colab.research.google.com/github/yghebre6/Swift-for-TensorFlow/blob/main/Inception_v1.ipynb\" target=\"_parent\"><img src=\"https://colab.research.google.com/assets/colab-badge.svg\" alt=\"Open In Colab\"/></a>"
      ]
    },
    {
      "cell_type": "markdown",
      "metadata": {
        "id": "XWFgIVY0qGEQ"
      },
      "source": [
        "# Inception-v1 in S4TF"
      ]
    },
    {
      "cell_type": "markdown",
      "metadata": {
        "id": "fyGmxY28qOFO"
      },
      "source": [
        "## Configure imports"
      ]
    },
    {
      "cell_type": "code",
      "metadata": {
        "colab": {
          "base_uri": "https://localhost:8080/"
        },
        "id": "5ILqm6Q7vxj9",
        "outputId": "18c8f4a6-2d4b-4c2a-a198-4aae6ff1c390"
      },
      "source": [
        "%install '.package(url: \"https://github.com/tensorflow/swift-models\", .branch(\"tensorflow-0.11\"))' Datasets\n",
        "print(\"\\u{001B}[2J\")"
      ],
      "execution_count": null,
      "outputs": [
        {
          "output_type": "stream",
          "text": [
            "\r\n"
          ],
          "name": "stdout"
        }
      ]
    },
    {
      "cell_type": "code",
      "metadata": {
        "id": "wdz0S7ITQUwS"
      },
      "source": [
        "import Datasets\n",
        "import ImageClassificationModels\n",
        "import TensorFlow\n",
        "import Python\n",
        "import Foundation"
      ],
      "execution_count": null,
      "outputs": []
    },
    {
      "cell_type": "code",
      "metadata": {
        "colab": {
          "base_uri": "https://localhost:8080/"
        },
        "id": "uGmZzLY_v2b2",
        "outputId": "65a571a7-d2e4-4d23-a21e-febc06ed5530"
      },
      "source": [
        "%include \"EnableIPythonDisplay.swift\"\n",
        "IPythonDisplay.shell.enable_matplotlib(\"inline\")\n",
        "\n",
        "let plt = Python.import(\"matplotlib.pyplot\")\n",
        "let np  = Python.import(\"numpy\")\n",
        "let subprocess = Python.import(\"subprocess\")\n",
        "let glob = Python.import(\"glob\")\n",
        "let pil = Python.import(\"PIL\")\n",
        "let h5py = Python.import(\"h5py\")\n",
        "let path = Python.import(\"os.path\")\n",
        "let tf = Python.import(\"tensorflow\")"
      ],
      "execution_count": null,
      "outputs": [
        {
          "output_type": "stream",
          "text": [
            "2020-11-29 23:01:54.939420: I tensorflow/stream_executor/platform/default/dso_loader.cc:48] Successfully opened dynamic library libcudart.so.10.1\r\n"
          ],
          "name": "stdout"
        }
      ]
    },
    {
      "cell_type": "markdown",
      "metadata": {
        "id": "bSbdyPj1qT4R"
      },
      "source": [
        "## Model"
      ]
    },
    {
      "cell_type": "markdown",
      "metadata": {
        "id": "65h09CnrqY41"
      },
      "source": [
        "### Local-response regularization"
      ]
    },
    {
      "cell_type": "code",
      "metadata": {
        "id": "W_dIYaGq_P6H"
      },
      "source": [
        "public struct LRN: ParameterlessLayer {\n",
        "    public typealias TangentVector = EmptyTangentVector\n",
        "\n",
        "    @differentiable\n",
        "    public func callAsFunction(_ input: Tensor<Float>) -> Tensor<Float> {\n",
        "        return localResponseNorm(input)\n",
        "    }\n",
        "}\n",
        "\n",
        "func localResponseNorm<T : TensorFlowFloatingPoint>(_ input: Tensor<T>) -> Tensor<T> {\n",
        "    return _Raw.lRN(input, depthRadius:5, bias:1, alpha:0.0001, beta:0.75)\n",
        "}\n",
        "\n",
        "@derivative(of: localResponseNorm)\n",
        "func vjpLocalResponseNorm<T : TensorFlowFloatingPoint>(_ input: Tensor<T>) -> (value: Tensor<T>, pullback: (Tensor<T>) -> (Tensor<T>)) {\n",
        "    let value = _Raw.lRN(input, depthRadius:5, bias:1, alpha:0.0001, beta:0.75)\n",
        "    return (value: value, pullback: { v in\n",
        "        _Raw.lRNGrad(inputGrads: v, inputImage: input, outputImage: value, depthRadius: 5, bias: 1, alpha: 0.0001, beta: 0.75)\n",
        "    })\n",
        "}"
      ],
      "execution_count": null,
      "outputs": []
    },
    {
      "cell_type": "markdown",
      "metadata": {
        "id": "H68wCBVcqwHT"
      },
      "source": [
        "### Inception-v1"
      ]
    },
    {
      "cell_type": "markdown",
      "metadata": {
        "id": "5XzIE9jjqkY4"
      },
      "source": [
        "Architecture as described here https://arxiv.org/pdf/1409.4842.pdf"
      ]
    },
    {
      "cell_type": "code",
      "metadata": {
        "id": "6Hu4wunXAIhl"
      },
      "source": [
        "struct InceptionV1: Layer {\n",
        "\n",
        "    var conv1 = Conv2D<Float>(filterShape: (7, 7, 3, 64), strides: (2, 2), padding: .valid, activation: relu, useBias: false)\n",
        "    var max_pool1 = MaxPool2D<Float>(poolSize: (3, 3), strides: (2, 2), padding: .valid)\n",
        "    var lrn1 = LRN()\n",
        "\n",
        "    var conv2 = Conv2D<Float>(filterShape: (1, 1, 64, 64), strides: (1, 1), padding: .same, activation: relu, useBias: false)\n",
        "    var conv3 = Conv2D<Float>(filterShape: (3, 3, 64, 192), strides: (1, 1), padding: .same, activation: relu, useBias: false)\n",
        "    var lrn2 = LRN()\n",
        "    var max_pool2 = MaxPool2D<Float>(poolSize: (3, 3), strides: (2, 2), padding: .valid)\n",
        "    \n",
        "    var inception_3a_1x1 = Conv2D<Float>(filterShape: (1, 1, 192, 64), strides: (1, 1), padding: .same, activation: relu, useBias: false)\n",
        "    var inception_3a_3x3_reduce = Conv2D<Float>(filterShape: (1, 1, 192, 96), strides: (1, 1), padding: .same, activation: relu, useBias: false)\n",
        "    var inception_3a_3x3 = Conv2D<Float>(filterShape: (3, 3, 96, 128), strides: (1, 1), padding: .same, activation: relu, useBias: false)\n",
        "    var inception_3a_5x5_reduce = Conv2D<Float>(filterShape: (1, 1, 192, 16), strides: (1, 1), padding: .same, activation: relu, useBias: false)\n",
        "    var inception_3a_5x5 = Conv2D<Float>(filterShape: (5, 5, 16, 32), strides: (1, 1), padding: .same, activation: relu, useBias: false)\n",
        "    var inception_3a_pool = MaxPool2D<Float>(poolSize: (3, 3), strides: (1, 1), padding: .same)\n",
        "    var inception_3a_pool_proj = Conv2D<Float>(filterShape: (1, 1, 192, 32), strides: (1, 1), padding: .same, activation: relu, useBias: false)\n",
        "\n",
        "    var inception_3b_1x1 = Conv2D<Float>(filterShape: (1, 1, 256, 128), strides: (1, 1), padding: .same, activation: relu, useBias: false)\n",
        "    var inception_3b_3x3_reduce = Conv2D<Float>(filterShape: (1, 1, 256, 128), strides: (1, 1), padding: .same, activation: relu, useBias: false)\n",
        "    var inception_3b_3x3 = Conv2D<Float>(filterShape: (3, 3, 128, 192), strides: (1, 1), padding: .same, activation: relu, useBias: false)\n",
        "    var inception_3b_5x5_reduce = Conv2D<Float>(filterShape: (1, 1, 256, 32), strides: (1, 1), padding: .same, activation: relu, useBias: false)\n",
        "    var inception_3b_5x5 = Conv2D<Float>(filterShape: (5, 5, 32, 96), strides: (1, 1), padding: .same, activation: relu, useBias: false)\n",
        "    var inception_3b_pool = MaxPool2D<Float>(poolSize: (3, 3), strides: (1, 1), padding: .same)\n",
        "    var inception_3b_pool_proj = Conv2D<Float>(filterShape: (1, 1, 256, 64), strides: (1, 1), padding: .same, activation: relu, useBias: false)\n",
        "    \n",
        "    var max_pool3 = MaxPool2D<Float>(poolSize: (3, 3), strides: (2, 2), padding: .valid)\n",
        "    \n",
        "    var inception_4a_1x1 = Conv2D<Float>(filterShape: (1, 1, 480, 192), strides: (1, 1), padding: .same, activation: relu, useBias: false)\n",
        "    var inception_4a_3x3_reduce = Conv2D<Float>(filterShape: (1, 1, 480, 96), strides: (1, 1), padding: .same, activation: relu, useBias: false)\n",
        "    var inception_4a_3x3 = Conv2D<Float>(filterShape: (3, 3, 96, 208), strides: (1, 1), padding: .same, activation: relu, useBias: false)\n",
        "    var inception_4a_5x5_reduce = Conv2D<Float>(filterShape: (1, 1, 480, 16), strides: (1, 1), padding: .same, activation: relu, useBias: false)\n",
        "    var inception_4a_5x5 = Conv2D<Float>(filterShape: (5, 5, 16, 48), strides: (1, 1), padding: .same, activation: relu, useBias: false)\n",
        "    var inception_4a_pool = MaxPool2D<Float>(poolSize: (3, 3), strides: (1, 1), padding: .same)\n",
        "    var inception_4a_pool_proj = Conv2D<Float>(filterShape: (1, 1, 480, 64), strides: (1, 1), padding: .same, activation: relu, useBias: false)\n",
        "    \n",
        "    var aux_class1_avg_pool = AvgPool2D<Float>(poolSize: (5, 5), strides: (3, 3), padding: .valid)\n",
        "    var aux_class1_conv = Conv2D<Float>(filterShape: (1, 1, 512, 128), strides: (1, 1), padding: .same, activation: relu, useBias: false)\n",
        "    var aux_class1_flatten = Flatten<Float>()\n",
        "    var aux_class1_fc = Dense<Float>(inputSize: 1152, outputSize: 1024, activation: relu)\n",
        "    var aux_class1_dropout = Dropout<Float>(probability: 0.7)\n",
        "    var aux_class1 = Dense<Float>(inputSize: 1024, outputSize: 10)\n",
        "\n",
        "    var inception_4b_1x1 = Conv2D<Float>(filterShape: (1, 1, 512, 160), strides: (1, 1), padding: .same, activation: relu, useBias: false)\n",
        "    var inception_4b_3x3_reduce = Conv2D<Float>(filterShape: (1, 1, 512, 112), strides: (1, 1), padding: .same, activation: relu, useBias: false)\n",
        "    var inception_4b_3x3 = Conv2D<Float>(filterShape: (3, 3, 112, 224), strides: (1, 1), padding: .same, activation: relu, useBias: false)\n",
        "    var inception_4b_5x5_reduce = Conv2D<Float>(filterShape: (1, 1, 512, 24), strides: (1, 1), padding: .same, activation: relu, useBias: false)\n",
        "    var inception_4b_5x5 = Conv2D<Float>(filterShape: (5, 5, 24, 64), strides: (1, 1), padding: .same, activation: relu, useBias: false)\n",
        "    var inception_4b_pool = MaxPool2D<Float>(poolSize: (3, 3), strides: (1, 1), padding: .same)\n",
        "    var inception_4b_pool_proj = Conv2D<Float>(filterShape: (1, 1, 512, 64), strides: (1, 1), padding: .same, activation: relu, useBias: false)\n",
        "\n",
        "    var inception_4c_1x1 = Conv2D<Float>(filterShape: (1, 1, 512, 128), strides: (1, 1), padding: .same, activation: relu, useBias: false)\n",
        "    var inception_4c_3x3_reduce = Conv2D<Float>(filterShape: (1, 1, 512, 128), strides: (1, 1), padding: .same, activation: relu, useBias: false)\n",
        "    var inception_4c_3x3 = Conv2D<Float>(filterShape: (3, 3, 128, 256), strides: (1, 1), padding: .same, activation: relu, useBias: false)\n",
        "    var inception_4c_5x5_reduce = Conv2D<Float>(filterShape: (1, 1, 512, 24), strides: (1, 1), padding: .same, activation: relu, useBias: false)\n",
        "    var inception_4c_5x5 = Conv2D<Float>(filterShape: (5, 5, 24, 64), strides: (1, 1), padding: .same, activation: relu, useBias: false)\n",
        "    var inception_4c_pool = MaxPool2D<Float>(poolSize: (3, 3), strides: (1, 1), padding: .same)\n",
        "    var inception_4c_pool_proj = Conv2D<Float>(filterShape: (1, 1, 512, 64), strides: (1, 1), padding: .same, activation: relu, useBias: false)\n",
        "\n",
        "    var inception_4d_1x1 = Conv2D<Float>(filterShape: (1, 1, 512, 112), strides: (1, 1), padding: .same, activation: relu, useBias: false)\n",
        "    var inception_4d_3x3_reduce = Conv2D<Float>(filterShape: (1, 1, 512, 144), strides: (1, 1), padding: .same, activation: relu, useBias: false)\n",
        "    var inception_4d_3x3 = Conv2D<Float>(filterShape: (3, 3, 144, 288), strides: (1, 1), padding: .same, activation: relu, useBias: false)\n",
        "    var inception_4d_5x5_reduce = Conv2D<Float>(filterShape: (1, 1, 512, 32), strides: (1, 1), padding: .same, activation: relu, useBias: false)\n",
        "    var inception_4d_5x5 = Conv2D<Float>(filterShape: (5, 5, 32, 64), strides: (1, 1), padding: .same, activation: relu, useBias: false)\n",
        "    var inception_4d_pool = MaxPool2D<Float>(poolSize: (3, 3), strides: (1, 1), padding: .same)\n",
        "    var inception_4d_pool_proj = Conv2D<Float>(filterShape: (1, 1, 512, 64), strides: (1, 1), padding: .same, activation: relu, useBias: false)\n",
        "\n",
        "    var aux_class2_avg_pool = AvgPool2D<Float>(poolSize: (5, 5), strides: (3, 3), padding: .valid)\n",
        "    var aux_class2_conv = Conv2D<Float>(filterShape: (1, 1, 528, 128), strides: (1, 1), padding: .same, activation: relu, useBias: false)\n",
        "    var aux_class2_flatten = Flatten<Float>()\n",
        "    var aux_class2_fc = Dense<Float>(inputSize: 1152, outputSize: 1024, activation: relu)\n",
        "    var aux_class2_dropout = Dropout<Float>(probability: 0.7)\n",
        "    var aux_class2 = Dense<Float>(inputSize: 1024, outputSize: 10)\n",
        "\n",
        "    var inception_4e_1x1 = Conv2D<Float>(filterShape: (1, 1, 528, 256), strides: (1, 1), padding: .same, activation: relu, useBias: false)\n",
        "    var inception_4e_3x3_reduce = Conv2D<Float>(filterShape: (1, 1, 528, 160), strides: (1, 1), padding: .same, activation: relu, useBias: false)\n",
        "    var inception_4e_3x3 = Conv2D<Float>(filterShape: (3, 3, 160, 320), strides: (1, 1), padding: .same, activation: relu, useBias: false)\n",
        "    var inception_4e_5x5_reduce = Conv2D<Float>(filterShape: (1, 1, 528, 32), strides: (1, 1), padding: .same, activation: relu, useBias: false)\n",
        "    var inception_4e_5x5 = Conv2D<Float>(filterShape: (5, 5, 32, 128), strides: (1, 1), padding: .same, activation: relu, useBias: false)\n",
        "    var inception_4e_pool = MaxPool2D<Float>(poolSize: (3, 3), strides: (1, 1), padding: .same)\n",
        "    var inception_4e_pool_proj = Conv2D<Float>(filterShape: (1, 1, 528, 128), strides: (1, 1), padding: .same, activation: relu, useBias: false)\n",
        "\n",
        "    var max_pool4 = MaxPool2D<Float>(poolSize: (3, 3), strides: (2, 2), padding: .valid)\n",
        "\n",
        "    var inception_5a_1x1 = Conv2D<Float>(filterShape: (1, 1, 832, 256), strides: (1, 1), padding: .same, activation: relu, useBias: false)\n",
        "    var inception_5a_3x3_reduce = Conv2D<Float>(filterShape: (1, 1, 832, 160), strides: (1, 1), padding: .same, activation: relu, useBias: false)\n",
        "    var inception_5a_3x3 = Conv2D<Float>(filterShape: (3, 3, 160, 320), strides: (1, 1), padding: .same, activation: relu, useBias: false)\n",
        "    var inception_5a_5x5_reduce = Conv2D<Float>(filterShape: (1, 1, 832, 32), strides: (1, 1), padding: .same, activation: relu, useBias: false)\n",
        "    var inception_5a_5x5 = Conv2D<Float>(filterShape: (5, 5, 32, 128), strides: (1, 1), padding: .same, activation: relu, useBias: false)\n",
        "    var inception_5a_pool = MaxPool2D<Float>(poolSize: (3, 3), strides: (1, 1), padding: .same)\n",
        "    var inception_5a_pool_proj = Conv2D<Float>(filterShape: (1, 1, 832, 128), strides: (1, 1), padding: .same, activation: relu, useBias: false)\n",
        "\n",
        "    var inception_5b_1x1 = Conv2D<Float>(filterShape: (1, 1, 832, 384), strides: (1, 1), padding: .same, activation: relu, useBias: false)\n",
        "    var inception_5b_3x3_reduce = Conv2D<Float>(filterShape: (1, 1, 832, 192), strides: (1, 1), padding: .same, activation: relu, useBias: false)\n",
        "    var inception_5b_3x3 = Conv2D<Float>(filterShape: (3, 3, 192, 384), strides: (1, 1), padding: .same, activation: relu, useBias: false)\n",
        "    var inception_5b_5x5_reduce = Conv2D<Float>(filterShape: (1, 1, 832, 48), strides: (1, 1), padding: .same, activation: relu, useBias: false)\n",
        "    var inception_5b_5x5 = Conv2D<Float>(filterShape: (5, 5, 48, 128), strides: (1, 1), padding: .same, activation: relu, useBias: false)\n",
        "    var inception_5b_pool = MaxPool2D<Float>(poolSize: (3, 3), strides: (1, 1), padding: .same)\n",
        "    var inception_5b_pool_proj = Conv2D<Float>(filterShape: (1, 1, 832, 128), strides: (1, 1), padding: .same, activation: relu, useBias: false)\n",
        "\n",
        "    var avg_pool = AvgPool2D<Float>(poolSize: (5, 5), strides: (1, 1), padding: .valid)\n",
        "    var flatten = Flatten<Float>()\n",
        "    var dropout = Dropout<Float>(probability: 0.4)\n",
        "    var fc = Dense<Float>(inputSize: 1024, outputSize: 10)\n",
        "\n",
        "    @differentiable\n",
        "    func callAsFunction(_ input: Tensor<Float>) -> Tensor<Float> {\n",
        "        var output = conv1(input)\n",
        "        output = max_pool1(output)\n",
        "        output = lrn1(output)\n",
        "\n",
        "        output = conv2(output)\n",
        "        output = conv3(output)\n",
        "        output = lrn2(output)\n",
        "        output = max_pool2(output)\n",
        "\n",
        "        var output_1x1 = inception_3a_1x1(output)\n",
        "        var output_3x3 = inception_3a_3x3_reduce(output)\n",
        "        output_3x3 = inception_3a_3x3(output_3x3)\n",
        "        var output_5x5 = inception_3a_5x5_reduce(output)\n",
        "        output_5x5 = inception_3a_5x5(output_5x5)\n",
        "        var output_pool = inception_3a_pool(output)\n",
        "        output_pool = inception_3a_pool_proj(output_pool)\n",
        "        output = Tensor<Float>(concatenating: [output_1x1, output_3x3, output_5x5, output_pool], alongAxis: 3)\n",
        "        \n",
        "        output_1x1 = inception_3b_1x1(output)\n",
        "        output_3x3 = inception_3b_3x3_reduce(output)\n",
        "        output_3x3 = inception_3b_3x3(output_3x3)\n",
        "        output_5x5 = inception_3b_5x5_reduce(output)\n",
        "        output_5x5 = inception_3b_5x5(output_5x5)\n",
        "        output_pool = inception_3b_pool(output)\n",
        "        output_pool = inception_3b_pool_proj(output_pool)\n",
        "        output = Tensor<Float>(concatenating: [output_1x1, output_3x3, output_5x5, output_pool], alongAxis: 3)\n",
        "\n",
        "        output = max_pool3(output)\n",
        "        \n",
        "        output_1x1 = inception_4a_1x1(output)\n",
        "        output_3x3 = inception_4a_3x3_reduce(output)\n",
        "        output_3x3 = inception_4a_3x3(output_3x3)\n",
        "        output_5x5 = inception_4a_5x5_reduce(output)\n",
        "        output_5x5 = inception_4a_5x5(output_5x5)\n",
        "        output_pool = inception_4a_pool(output)\n",
        "        output_pool = inception_4a_pool_proj(output_pool)\n",
        "        output = Tensor<Float>(concatenating: [output_1x1, output_3x3, output_5x5, output_pool], alongAxis: 3)\n",
        "\n",
        "        var aux_class1_output = aux_class1_avg_pool(output)\n",
        "        aux_class1_output = aux_class1_conv(aux_class1_output)\n",
        "        aux_class1_output = aux_class1_flatten(aux_class1_output)\n",
        "        aux_class1_output = aux_class1_fc(aux_class1_output)\n",
        "        aux_class1_output = aux_class1_dropout(aux_class1_output)\n",
        "        aux_class1_output = aux_class1(aux_class1_output)\n",
        "\n",
        "        output_1x1 = inception_4b_1x1(output)\n",
        "        output_3x3 = inception_4b_3x3_reduce(output)\n",
        "        output_3x3 = inception_4b_3x3(output_3x3)\n",
        "        output_5x5 = inception_4b_5x5_reduce(output)\n",
        "        output_5x5 = inception_4b_5x5(output_5x5)\n",
        "        output_pool = inception_4b_pool(output)\n",
        "        output_pool = inception_4b_pool_proj(output_pool)\n",
        "        output = Tensor<Float>(concatenating: [output_1x1, output_3x3, output_5x5, output_pool], alongAxis: 3)\n",
        "\n",
        "        output_1x1 = inception_4c_1x1(output)\n",
        "        output_3x3 = inception_4c_3x3_reduce(output)\n",
        "        output_3x3 = inception_4c_3x3(output_3x3)\n",
        "        output_5x5 = inception_4c_5x5_reduce(output)\n",
        "        output_5x5 = inception_4c_5x5(output_5x5)\n",
        "        output_pool = inception_4c_pool(output)\n",
        "        output_pool = inception_4c_pool_proj(output_pool)\n",
        "        output = Tensor<Float>(concatenating: [output_1x1, output_3x3, output_5x5, output_pool], alongAxis: 3)\n",
        "\n",
        "        output_1x1 = inception_4d_1x1(output)\n",
        "        output_3x3 = inception_4d_3x3_reduce(output)\n",
        "        output_3x3 = inception_4d_3x3(output_3x3)\n",
        "        output_5x5 = inception_4d_5x5_reduce(output)\n",
        "        output_5x5 = inception_4d_5x5(output_5x5)\n",
        "        output_pool = inception_4d_pool(output)\n",
        "        output_pool = inception_4d_pool_proj(output_pool)\n",
        "        output = Tensor<Float>(concatenating: [output_1x1, output_3x3, output_5x5, output_pool], alongAxis: 3)\n",
        "\n",
        "        var aux_class2_output = aux_class2_avg_pool(output)\n",
        "        aux_class2_output = aux_class2_conv(aux_class2_output)\n",
        "        aux_class2_output = aux_class2_flatten(aux_class2_output)\n",
        "        aux_class2_output = aux_class2_fc(aux_class2_output)\n",
        "        aux_class2_output = aux_class2_dropout(aux_class2_output)\n",
        "        aux_class2_output = aux_class2(aux_class2_output)\n",
        "\n",
        "        output_1x1 = inception_4e_1x1(output)\n",
        "        output_3x3 = inception_4e_3x3_reduce(output)\n",
        "        output_3x3 = inception_4e_3x3(output_3x3)\n",
        "        output_5x5 = inception_4e_5x5_reduce(output)\n",
        "        output_5x5 = inception_4e_5x5(output_5x5)\n",
        "        output_pool = inception_4e_pool(output)\n",
        "        output_pool = inception_4e_pool_proj(output_pool)\n",
        "        output = Tensor<Float>(concatenating: [output_1x1, output_3x3, output_5x5, output_pool], alongAxis: 3)\n",
        "\n",
        "        output = max_pool4(output)\n",
        "\n",
        "        output_1x1 = inception_5a_1x1(output)\n",
        "        output_3x3 = inception_5a_3x3_reduce(output)\n",
        "        output_3x3 = inception_5a_3x3(output_3x3)\n",
        "        output_5x5 = inception_5a_5x5_reduce(output)\n",
        "        output_5x5 = inception_5a_5x5(output_5x5)\n",
        "        output_pool = inception_5a_pool(output)\n",
        "        output_pool = inception_5a_pool_proj(output_pool)\n",
        "        output = Tensor<Float>(concatenating: [output_1x1, output_3x3, output_5x5, output_pool], alongAxis: 3)\n",
        "\n",
        "        output_1x1 = inception_5b_1x1(output)\n",
        "        output_3x3 = inception_5b_3x3_reduce(output)\n",
        "        output_3x3 = inception_5b_3x3(output_3x3)\n",
        "        output_5x5 = inception_5b_5x5_reduce(output)\n",
        "        output_5x5 = inception_5b_5x5(output_5x5)\n",
        "        output_pool = inception_5b_pool(output)\n",
        "        output_pool = inception_5b_pool_proj(output_pool)\n",
        "        output = Tensor<Float>(concatenating: [output_1x1, output_3x3, output_5x5, output_pool], alongAxis: 3)\n",
        "        \n",
        "        output = avg_pool(output)\n",
        "        output = flatten(output)\n",
        "        output = dropout(output)\n",
        "        output = fc(output)\n",
        "\n",
        "        if (Context.local.learningPhase == .training) {\n",
        "          return 0.3 * aux_class1_output + 0.3 * aux_class2_output + output\n",
        "        } else {\n",
        "          return output\n",
        "        }\n",
        "    }\n",
        "}"
      ],
      "execution_count": null,
      "outputs": []
    },
    {
      "cell_type": "markdown",
      "metadata": {
        "id": "4_MN4gbXq3Nv"
      },
      "source": [
        "### L2 loss"
      ]
    },
    {
      "cell_type": "code",
      "metadata": {
        "id": "oSOBn7ZOfq_0"
      },
      "source": [
        "struct L2 {\n",
        "    var l2_loss = Tensor<Float>(0, on: Device.default)\n",
        "    var inception_v1: InceptionV1\n",
        "\n",
        "    init(on device: Device = Device.default, inception_v1: InceptionV1) {\n",
        "        l2_loss = Tensor<Float>(0, on: device)\n",
        "        self.inception_v1 = inception_v1\n",
        "    }\n",
        "\n",
        "    mutating func loss() -> Tensor<Float> {\n",
        "      var weight = inception_v1.conv1.filter\n",
        "      l2_loss += (weight * weight).sum()\n",
        "\n",
        "      weight = inception_v1.conv2.filter\n",
        "      l2_loss += (weight * weight).sum()\n",
        "      weight = inception_v1.conv3.filter\n",
        "      l2_loss += (weight * weight).sum()\n",
        "\n",
        "      weight = inception_v1.inception_3a_1x1.filter\n",
        "      l2_loss += (weight * weight).sum()\n",
        "      weight = inception_v1.inception_3a_3x3_reduce.filter\n",
        "      l2_loss += (weight * weight).sum()\n",
        "      weight = inception_v1.inception_3a_3x3.filter\n",
        "      l2_loss += (weight * weight).sum()\n",
        "      weight = inception_v1.inception_3a_5x5_reduce.filter\n",
        "      l2_loss += (weight * weight).sum()\n",
        "      weight = inception_v1.inception_3a_5x5.filter\n",
        "      l2_loss += (weight * weight).sum()\n",
        "      weight = inception_v1.inception_3a_pool_proj.filter\n",
        "      l2_loss += (weight * weight).sum()\n",
        "\n",
        "      weight = inception_v1.inception_3b_1x1.filter\n",
        "      l2_loss += (weight * weight).sum()\n",
        "      weight = inception_v1.inception_3b_3x3_reduce.filter\n",
        "      l2_loss += (weight * weight).sum()\n",
        "      weight = inception_v1.inception_3b_3x3.filter\n",
        "      l2_loss += (weight * weight).sum()\n",
        "      weight = inception_v1.inception_3b_5x5_reduce.filter\n",
        "      l2_loss += (weight * weight).sum()\n",
        "      weight = inception_v1.inception_3b_5x5.filter\n",
        "      l2_loss += (weight * weight).sum()\n",
        "      weight = inception_v1.inception_3b_pool_proj.filter\n",
        "      l2_loss += (weight * weight).sum()\n",
        "\n",
        "      weight = inception_v1.inception_4a_1x1.filter\n",
        "      l2_loss += (weight * weight).sum()\n",
        "      weight = inception_v1.inception_4a_3x3_reduce.filter\n",
        "      l2_loss += (weight * weight).sum()\n",
        "      weight = inception_v1.inception_4a_3x3.filter\n",
        "      l2_loss += (weight * weight).sum()\n",
        "      weight = inception_v1.inception_4a_5x5_reduce.filter\n",
        "      l2_loss += (weight * weight).sum()\n",
        "      weight = inception_v1.inception_4a_5x5.filter\n",
        "      l2_loss += (weight * weight).sum()\n",
        "      weight = inception_v1.inception_4a_pool_proj.filter\n",
        "      l2_loss += (weight * weight).sum()\n",
        "\n",
        "      weight = inception_v1.aux_class1_conv.filter\n",
        "      l2_loss += (weight * weight).sum()\n",
        "      weight = inception_v1.aux_class1_fc.weight\n",
        "      l2_loss += (weight * weight).sum()\n",
        "      weight = inception_v1.aux_class1_fc.weight\n",
        "      l2_loss += (weight * weight).sum()\n",
        "\n",
        "      weight = inception_v1.inception_4b_1x1.filter\n",
        "      l2_loss += (weight * weight).sum()\n",
        "      weight = inception_v1.inception_4b_3x3_reduce.filter\n",
        "      l2_loss += (weight * weight).sum()\n",
        "      weight = inception_v1.inception_4b_3x3.filter\n",
        "      l2_loss += (weight * weight).sum()\n",
        "      weight = inception_v1.inception_4b_5x5_reduce.filter\n",
        "      l2_loss += (weight * weight).sum()\n",
        "      weight = inception_v1.inception_4b_5x5.filter\n",
        "      l2_loss += (weight * weight).sum()\n",
        "      weight = inception_v1.inception_4b_pool_proj.filter\n",
        "      l2_loss += (weight * weight).sum()\n",
        "\n",
        "      weight = inception_v1.inception_4c_1x1.filter\n",
        "      l2_loss += (weight * weight).sum()\n",
        "      weight = inception_v1.inception_4c_3x3_reduce.filter\n",
        "      l2_loss += (weight * weight).sum()\n",
        "      weight = inception_v1.inception_4c_3x3.filter\n",
        "      l2_loss += (weight * weight).sum()\n",
        "      weight = inception_v1.inception_4c_5x5_reduce.filter\n",
        "      l2_loss += (weight * weight).sum()\n",
        "      weight = inception_v1.inception_4c_5x5.filter\n",
        "      l2_loss += (weight * weight).sum()\n",
        "      weight = inception_v1.inception_4c_pool_proj.filter\n",
        "      l2_loss += (weight * weight).sum()\n",
        "\n",
        "      weight = inception_v1.inception_4d_1x1.filter\n",
        "      l2_loss += (weight * weight).sum()\n",
        "      weight = inception_v1.inception_4d_3x3_reduce.filter\n",
        "      l2_loss += (weight * weight).sum()\n",
        "      weight = inception_v1.inception_4d_3x3.filter\n",
        "      l2_loss += (weight * weight).sum()\n",
        "      weight = inception_v1.inception_4d_5x5_reduce.filter\n",
        "      l2_loss += (weight * weight).sum()\n",
        "      weight = inception_v1.inception_4d_5x5.filter\n",
        "      l2_loss += (weight * weight).sum()\n",
        "      weight = inception_v1.inception_4d_pool_proj.filter\n",
        "      l2_loss += (weight * weight).sum()\n",
        "\n",
        "      weight = inception_v1.aux_class2_conv.filter\n",
        "      l2_loss += (weight * weight).sum()\n",
        "      weight = inception_v1.aux_class2_fc.weight\n",
        "      l2_loss += (weight * weight).sum()\n",
        "      weight = inception_v1.aux_class2_fc.weight\n",
        "      l2_loss += (weight * weight).sum()\n",
        "\n",
        "      weight = inception_v1.inception_4e_1x1.filter\n",
        "      l2_loss += (weight * weight).sum()\n",
        "      weight = inception_v1.inception_4e_3x3_reduce.filter\n",
        "      l2_loss += (weight * weight).sum()\n",
        "      weight = inception_v1.inception_4e_3x3.filter\n",
        "      l2_loss += (weight * weight).sum()\n",
        "      weight = inception_v1.inception_4e_5x5_reduce.filter\n",
        "      l2_loss += (weight * weight).sum()\n",
        "      weight = inception_v1.inception_4e_5x5.filter\n",
        "      l2_loss += (weight * weight).sum()\n",
        "      weight = inception_v1.inception_4e_pool_proj.filter\n",
        "      l2_loss += (weight * weight).sum()\n",
        "\n",
        "      weight = inception_v1.inception_5a_1x1.filter\n",
        "      l2_loss += (weight * weight).sum()\n",
        "      weight = inception_v1.inception_5a_3x3_reduce.filter\n",
        "      l2_loss += (weight * weight).sum()\n",
        "      weight = inception_v1.inception_5a_3x3.filter\n",
        "      l2_loss += (weight * weight).sum()\n",
        "      weight = inception_v1.inception_5a_5x5_reduce.filter\n",
        "      l2_loss += (weight * weight).sum()\n",
        "      weight = inception_v1.inception_5a_5x5.filter\n",
        "      l2_loss += (weight * weight).sum()\n",
        "      weight = inception_v1.inception_5a_pool_proj.filter\n",
        "      l2_loss += (weight * weight).sum()\n",
        "\n",
        "      weight = inception_v1.inception_5b_1x1.filter\n",
        "      l2_loss += (weight * weight).sum()\n",
        "      weight = inception_v1.inception_5b_3x3_reduce.filter\n",
        "      l2_loss += (weight * weight).sum()\n",
        "      weight = inception_v1.inception_5b_3x3.filter\n",
        "      l2_loss += (weight * weight).sum()\n",
        "      weight = inception_v1.inception_5b_5x5_reduce.filter\n",
        "      l2_loss += (weight * weight).sum()\n",
        "      weight = inception_v1.inception_5b_5x5.filter\n",
        "      l2_loss += (weight * weight).sum()\n",
        "      weight = inception_v1.inception_5b_pool_proj.filter\n",
        "      l2_loss += (weight * weight).sum()\n",
        "      \n",
        "      weight = inception_v1.fc.weight\n",
        "      l2_loss += (weight * weight).sum()\n",
        "\n",
        "      return l2_loss\n",
        "    }\n",
        "}"
      ],
      "execution_count": null,
      "outputs": []
    },
    {
      "cell_type": "markdown",
      "metadata": {
        "id": "88XQ0Xj_q-Jg"
      },
      "source": [
        "## Training + Inference"
      ]
    },
    {
      "cell_type": "code",
      "metadata": {
        "id": "Oy854dt0hm9d"
      },
      "source": [
        "struct Statistics {\n",
        "    var device: Device = Device.default\n",
        "    var epochs: Int = 0\n",
        "    var avgEpochTrainTime: Double = 0\n",
        "    var correctGuessCount = Tensor<Int32>(0, on: Device.default)\n",
        "    var totalGuessCount = Tensor<Int32>(0, on: Device.default)\n",
        "    var totalLoss = Tensor<Float>(0, on: Device.default)\n",
        "    var batches: Int = 0\n",
        "    var accuracy: Float { \n",
        "        Float(correctGuessCount.scalarized()) / Float(totalGuessCount.scalarized()) * 100 \n",
        "    } \n",
        "    var averageLoss: Float { totalLoss.scalarized() / Float(batches) }\n",
        "\n",
        "    var correctGuessCounts = Tensor<Int32>(0, on: Device.default)\n",
        "    var totalGuessCounts = Tensor<Int32>(0, on: Device.default)\n",
        "    var totalLosses = Tensor<Float>(0, on: Device.default)\n",
        "    var accuracies = Tensor<Float>(0, on: Device.default)\n",
        "    var averageLosses = Tensor<Float>(0, on: Device.default)\n",
        "\n",
        "    init(on device: Device, epochs: Int) {\n",
        "      self.device = device\n",
        "      self.epochs = epochs\n",
        "      correctGuessCount = Tensor<Int32>(0, on: device)\n",
        "      totalGuessCount = Tensor<Int32>(0, on: device)\n",
        "      totalLoss = Tensor<Float>(0, on: device)\n",
        "\n",
        "      correctGuessCounts = Tensor<Int32>(zeros: [epochs], on: device)\n",
        "      totalGuessCounts = Tensor<Int32>(zeros: [epochs], on: device)\n",
        "      totalLosses = Tensor<Float>(zeros: [epochs], on: device)\n",
        "      accuracies = Tensor<Float>(zeros: [epochs], on: device)\n",
        "      averageLosses = Tensor<Float>(zeros: [epochs], on: device)\n",
        "    }\n",
        "\n",
        "    mutating func update(logits: Tensor<Float>, labels: Tensor<Float>, loss: Tensor<Float>) {\n",
        "      let correct = logits.argmax(squeezingAxis: 1) .== labels.argmax(squeezingAxis: 1)\n",
        "      correctGuessCount += Tensor<Int32>(correct).sum()\n",
        "      totalGuessCount += Int32(labels.shape[0])\n",
        "      totalLoss += loss\n",
        "      batches += 1\n",
        "    }\n",
        "\n",
        "    mutating func add(epoch: Int, trainTime: Double = 0) {\n",
        "      avgEpochTrainTime += trainTime / Double(epochs)\n",
        "      correctGuessCounts[epoch] = Tensor<Int32>(correctGuessCount.scalar!, on:device)\n",
        "      totalGuessCounts[epoch] = Tensor<Int32>(totalGuessCount.scalar!, on:device)\n",
        "      totalLosses[epoch] = Tensor<Float>(totalLoss.scalar!, on:device)\n",
        "      accuracies[epoch] = Tensor<Float>(accuracy, on:device)\n",
        "      averageLosses[epoch] = Tensor<Float>(averageLoss, on:device)\n",
        "\n",
        "      correctGuessCount = Tensor<Int32>(0, on: device)\n",
        "      totalGuessCount = Tensor<Int32>(0, on: device)\n",
        "      totalLoss = Tensor<Float>(0, on: device)\n",
        "      batches = 0\n",
        "    }\n",
        "}"
      ],
      "execution_count": null,
      "outputs": []
    },
    {
      "cell_type": "markdown",
      "metadata": {
        "id": "zGmS0SWWrEDJ"
      },
      "source": [
        "### Configuration/Import dataset"
      ]
    },
    {
      "cell_type": "code",
      "metadata": {
        "id": "tKBRqwPAJAvg",
        "colab": {
          "base_uri": "https://localhost:8080/"
        },
        "outputId": "99d00bb6-26db-4e97-86f0-75278c682b36"
      },
      "source": [
        "let device = Device.defaultXLA\n",
        "var inception_v1 = InceptionV1()\n",
        "inception_v1.move(to: device)\n",
        "var optimizer = SGD(for: inception_v1, learningRate: 0.045, momentum: 0.9)\n",
        "optimizer = SGD(copying: optimizer, to: device)\n",
        "let reg: Float = 0.00004\n",
        "\n",
        "let epochCount = 100\n",
        "let batchSize = 32\n",
        "let dataset = Imagenette(batchSize: batchSize, on: Device.default)"
      ],
      "execution_count": null,
      "outputs": [
        {
          "output_type": "stream",
          "text": [
            "2020-11-29 23:07:25.922561: I tensorflow/compiler/xla/xla_client/xrt_local_service.cc:54] Peer localservice 1 {localhost:30758}\r\n",
            "2020-11-29 23:07:25.926747: I tensorflow/core/platform/cpu_feature_guard.cc:142] This TensorFlow binary is optimized with oneAPI Deep Neural Network Library (oneDNN)to use the following CPU instructions in performance-critical operations:  SSE3 SSE4.1 SSE4.2 AVX AVX2 AVX512F FMA\r\n",
            "To enable them in other operations, rebuild TensorFlow with the appropriate compiler flags.\n",
            "2020-11-29 23:07:25.963331: I tensorflow/core/platform/profile_utils/cpu_utils.cc:104] CPU Frequency: 2000175000 Hz\n",
            "2020-11-29 23:07:25.963971: I tensorflow/compiler/xla/service/service.cc:168] XLA service 0x2d84260 initialized for platform Host (this does not guarantee that XLA will be used). Devices:\n",
            "2020-11-29 23:07:25.964004: I tensorflow/compiler/xla/service/service.cc:176]   StreamExecutor device (0): Host, Default Version\n",
            "2020-11-29 23:07:26.042370: I tensorflow/stream_executor/platform/default/dso_loader.cc:48] Successfully opened dynamic library libcuda.so.1\n",
            "2020-11-29 23:07:26.136670: I tensorflow/core/common_runtime/gpu/gpu_device.cc:1257] Device interconnect StreamExecutor with strength 1 edge matrix:\n",
            "2020-11-29 23:07:26.136722: I tensorflow/core/common_runtime/gpu/gpu_device.cc:1263]      \n",
            "2020-11-29 23:07:26.163392: I tensorflow/core/distributed_runtime/rpc/grpc_channel.cc:301] Initialize GrpcChannelCache for job localservice -> {0 -> localhost:30758}\n",
            "2020-11-29 23:07:26.164972: I tensorflow/core/distributed_runtime/rpc/grpc_server_lib.cc:405] Started server with target: grpc://localhost:30758\n",
            "2020-11-29 23:07:26.318523: I tensorflow/compiler/xla/xla_client/computation_client.cc:202] NAME: CPU:0\n",
            "2020-11-29 23:07:26.497187: I tensorflow/stream_executor/cuda/cuda_gpu_executor.cc:982] successful NUMA node read from SysFS had negative value (-1), but there must be at least one NUMA node, so returning NUMA node zero\n",
            "2020-11-29 23:07:26.498112: I tensorflow/compiler/xla/service/service.cc:168] XLA service 0x2d00b20 initialized for platform CUDA (this does not guarantee that XLA will be used). Devices:\n",
            "2020-11-29 23:07:26.498154: I tensorflow/compiler/xla/service/service.cc:176]   StreamExecutor device (0): Tesla V100-SXM2-16GB, Compute Capability 7.0\n",
            "2020-11-29 23:07:26.498371: I tensorflow/compiler/xla/xla_client/computation_client.cc:202] NAME: GPU:0\n",
            "2020-11-29 23:07:26.499454: I tensorflow/stream_executor/cuda/cuda_gpu_executor.cc:982] successful NUMA node read from SysFS had negative value (-1), but there must be at least one NUMA node, so returning NUMA node zero\n",
            "2020-11-29 23:07:26.500090: I tensorflow/core/common_runtime/gpu/gpu_device.cc:1716] Found device 0 with properties: \n",
            "pciBusID: 0000:00:04.0 name: Tesla V100-SXM2-16GB computeCapability: 7.0\n",
            "coreClock: 1.53GHz coreCount: 80 deviceMemorySize: 15.75GiB deviceMemoryBandwidth: 836.37GiB/s\n",
            "2020-11-29 23:07:26.500143: I tensorflow/stream_executor/platform/default/dso_loader.cc:48] Successfully opened dynamic library libcudart.so.10.1\n",
            "2020-11-29 23:07:27.871591: I tensorflow/stream_executor/platform/default/dso_loader.cc:48] Successfully opened dynamic library libcublas.so.10\n",
            "2020-11-29 23:07:29.902243: I tensorflow/stream_executor/platform/default/dso_loader.cc:48] Successfully opened dynamic library libcufft.so.10\n",
            "2020-11-29 23:07:30.798614: I tensorflow/stream_executor/platform/default/dso_loader.cc:48] Successfully opened dynamic library libcurand.so.10\n",
            "2020-11-29 23:07:33.454507: I tensorflow/stream_executor/platform/default/dso_loader.cc:48] Successfully opened dynamic library libcusolver.so.10\n",
            "2020-11-29 23:07:33.533677: I tensorflow/stream_executor/platform/default/dso_loader.cc:48] Successfully opened dynamic library libcusparse.so.10\n",
            "2020-11-29 23:07:39.998022: I tensorflow/stream_executor/platform/default/dso_loader.cc:48] Successfully opened dynamic library libcudnn.so.7\n",
            "2020-11-29 23:07:39.998227: I tensorflow/stream_executor/cuda/cuda_gpu_executor.cc:982] successful NUMA node read from SysFS had negative value (-1), but there must be at least one NUMA node, so returning NUMA node zero\n",
            "2020-11-29 23:07:39.998924: I tensorflow/stream_executor/cuda/cuda_gpu_executor.cc:982] successful NUMA node read from SysFS had negative value (-1), but there must be at least one NUMA node, so returning NUMA node zero\n",
            "2020-11-29 23:07:39.999495: I tensorflow/core/common_runtime/gpu/gpu_device.cc:1858] Adding visible gpu devices: 0\n",
            "2020-11-29 23:07:43.672505: I tensorflow/core/common_runtime/gpu/gpu_device.cc:1257] Device interconnect StreamExecutor with strength 1 edge matrix:\n",
            "2020-11-29 23:07:43.672570: I tensorflow/core/common_runtime/gpu/gpu_device.cc:1263]      0 \n",
            "2020-11-29 23:07:43.672578: I tensorflow/core/common_runtime/gpu/gpu_device.cc:1276] 0:   N \n",
            "2020-11-29 23:07:43.676735: I tensorflow/stream_executor/cuda/cuda_gpu_executor.cc:982] successful NUMA node read from SysFS had negative value (-1), but there must be at least one NUMA node, so returning NUMA node zero\n",
            "2020-11-29 23:07:43.677526: I tensorflow/stream_executor/cuda/cuda_gpu_executor.cc:982] successful NUMA node read from SysFS had negative value (-1), but there must be at least one NUMA node, so returning NUMA node zero\n",
            "2020-11-29 23:07:43.678144: I tensorflow/core/common_runtime/gpu/gpu_device.cc:1402] Created TensorFlow device (/job:localhost/replica:0/task:0/device:GPU:0 with 14621 MB memory) -> physical GPU (device: 0, name: Tesla V100-SXM2-16GB, pci bus id: 0000:00:04.0, compute capability: 7.0)\n",
            "Loading resource: imagenette-320\n",
            "File does not exist locally at expected path: /root/.cache/swift-models/datasets/Imagenette/imagenette-320 and must be fetched\n",
            "Fetching URL: https://s3.amazonaws.com/fast-ai-imageclas/imagenette-320.tgz...\n",
            "Archive saved to: /root/.cache/swift-models/datasets/Imagenette\n"
          ],
          "name": "stdout"
        }
      ]
    },
    {
      "cell_type": "code",
      "metadata": {
        "id": "Urm1yeuHib_a",
        "colab": {
          "base_uri": "https://localhost:8080/"
        },
        "outputId": "5ef4c72c-82a1-4dd4-ac6d-febf114c48dc"
      },
      "source": [
        "print(\"Beginning training...\")\n",
        "var trainStats = Statistics(on: device, epochs: epochCount)\n",
        "var testStats = Statistics(on: device, epochs: epochCount)\n",
        "var l2 = L2(on: device, inception_v1: inception_v1)\n",
        "for (epoch, batches) in dataset.training.prefix(epochCount).enumerated() {\n",
        "    let start = Date()\n",
        "\n",
        "    Context.local.learningPhase = .training\n",
        "    for batch in batches {\n",
        "        let (eagerImages, eagerLabels) = (batch.data, batch.label)\n",
        "        let images = Tensor(copying: Tensor<Float>(eagerImages), to: device)\n",
        "        let oneHotLabels = Tensor<Float>(Tensor<Int32>(oneHotAtIndices: eagerLabels, depth: 10))\n",
        "        let labels = Tensor(copying: oneHotLabels, to: device)\n",
        "        var 𝛁model = TensorFlow.gradient(at: inception_v1) { inception_v1 -> Tensor<Float> in\n",
        "            let ŷ = inception_v1(images)\n",
        "            let loss = softmaxCrossEntropy(logits: ŷ, probabilities: labels)\n",
        "            trainStats.update(logits: ŷ, labels: labels, loss: loss)\n",
        "            return loss + reg * l2.loss()\n",
        "        }\n",
        "        optimizer.update(&inception_v1, along: 𝛁model)\n",
        "        LazyTensorBarrier()\n",
        "    }\n",
        "    let end = Date()\n",
        "\n",
        "    Context.local.learningPhase = .inference\n",
        "    for batch in dataset.validation {\n",
        "        let (eagerImages, eagerLabels) = (batch.data, batch.label)\n",
        "        let images = Tensor(copying: Tensor<Float>(eagerImages), to: device)\n",
        "        let oneHotLabels = Tensor<Float>(Tensor<Int32>(oneHotAtIndices: eagerLabels, depth: 10))\n",
        "        let labels = Tensor(copying: oneHotLabels, to: device)\n",
        "        let ŷ = inception_v1(images)\n",
        "        let loss = softmaxCrossEntropy(logits: ŷ, probabilities: labels)\n",
        "        LazyTensorBarrier()\n",
        "        testStats.update(logits: ŷ, labels: labels, loss: loss)\n",
        "    }\n",
        "\n",
        "    if (epoch % 8 == 1) {\n",
        "      optimizer.learningRate = optimizer.learningRate * 0.96\n",
        "    }\n",
        "\n",
        "    print(\n",
        "        \"\"\"\n",
        "        [Epoch \\(epoch)] \\\n",
        "        Training Loss: \\(String(format: \"%.3f\", trainStats.averageLoss)), \\\n",
        "        Training Accuracy: \\(trainStats.correctGuessCount)/\\(trainStats.totalGuessCount) \\\n",
        "        (\\(String(format: \"%.1f\", trainStats.accuracy))%), \\\n",
        "        Test Loss: \\(String(format: \"%.3f\", testStats.averageLoss)), \\\n",
        "        Test Accuracy: \\(testStats.correctGuessCount)/\\(testStats.totalGuessCount) \\\n",
        "        (\\(String(format: \"%.1f\", testStats.accuracy))%) \\\n",
        "        seconds per epoch: \\(String(format: \"%.1f\", Date().timeIntervalSince(start)))\n",
        "        \"\"\")\n",
        "\n",
        "    let trainTime = Date().timeIntervalSince(start) - Date().timeIntervalSince(end)\n",
        "    trainStats.add(epoch: epoch, trainTime: trainTime)\n",
        "    testStats.add(epoch: epoch)\n",
        "}"
      ],
      "execution_count": null,
      "outputs": [
        {
          "output_type": "stream",
          "text": [
            "Beginning training...\n",
            "2020-11-29 23:08:06.540764: I tensorflow/stream_executor/platform/default/dso_loader.cc:48] Successfully opened dynamic library libcublas.so.10\n",
            "2020-11-29 23:08:06.749251: I tensorflow/stream_executor/platform/default/dso_loader.cc:48] Successfully opened dynamic library libcudnn.so.7\n",
            "[Epoch 0] Training Loss: 2.183, Training Accuracy: 2492/12864 (19.4%), Test Loss: 2.314, Test Accuracy: 55/500 (11.0%) seconds per epoch: 716.8\n",
            "[Epoch 1] Training Loss: 1.016, Training Accuracy: 3643/12864 (28.3%), Test Loss: 1.147, Test Accuracy: 56/500 (11.2%) seconds per epoch: 705.3\n",
            "[Epoch 2] Training Loss: 0.610, Training Accuracy: 4789/12864 (37.2%), Test Loss: 0.767, Test Accuracy: 55/500 (11.0%) seconds per epoch: 709.6\n",
            "[Epoch 3] Training Loss: 0.423, Training Accuracy: 5500/12864 (42.8%), Test Loss: 0.568, Test Accuracy: 67/500 (13.4%) seconds per epoch: 593.7\n",
            "[Epoch 4] Training Loss: 0.306, Training Accuracy: 6364/12864 (49.5%), Test Loss: 0.427, Test Accuracy: 82/500 (16.4%) seconds per epoch: 656.4\n",
            "[Epoch 5] Training Loss: 0.232, Training Accuracy: 6974/12864 (54.2%), Test Loss: 0.357, Test Accuracy: 86/500 (17.2%) seconds per epoch: 684.2\n",
            "[Epoch 6] Training Loss: 0.180, Training Accuracy: 7614/12864 (59.2%), Test Loss: 0.294, Test Accuracy: 113/500 (22.6%) seconds per epoch: 689.7\n",
            "[Epoch 7] Training Loss: 0.152, Training Accuracy: 7828/12864 (60.9%), Test Loss: 0.252, Test Accuracy: 139/500 (27.8%) seconds per epoch: 678.2\n",
            "[Epoch 8] Training Loss: 0.132, Training Accuracy: 7926/12864 (61.6%), Test Loss: 0.213, Test Accuracy: 150/500 (30.0%) seconds per epoch: 660.3\n",
            "[Epoch 9] Training Loss: 0.114, Training Accuracy: 8130/12864 (63.2%), Test Loss: 0.205, Test Accuracy: 94/500 (18.8%) seconds per epoch: 692.0\n",
            "[Epoch 10] Training Loss: 0.097, Training Accuracy: 8409/12864 (65.4%), Test Loss: 0.176, Test Accuracy: 161/500 (32.2%) seconds per epoch: 682.2\n",
            "[Epoch 11] Training Loss: 0.086, Training Accuracy: 8576/12864 (66.7%), Test Loss: 0.157, Test Accuracy: 150/500 (30.0%) seconds per epoch: 674.2\n",
            "[Epoch 12] Training Loss: 0.074, Training Accuracy: 8829/12864 (68.6%), Test Loss: 0.145, Test Accuracy: 160/500 (32.0%) seconds per epoch: 695.5\n",
            "[Epoch 13] Training Loss: 0.069, Training Accuracy: 8906/12864 (69.2%), Test Loss: 0.127, Test Accuracy: 192/500 (38.4%) seconds per epoch: 692.1\n",
            "[Epoch 14] Training Loss: 0.063, Training Accuracy: 8907/12864 (69.2%), Test Loss: 0.116, Test Accuracy: 187/500 (37.4%) seconds per epoch: 681.4\n",
            "[Epoch 15] Training Loss: 0.057, Training Accuracy: 9122/12864 (70.9%), Test Loss: 0.114, Test Accuracy: 141/500 (28.2%) seconds per epoch: 654.6\n",
            "[Epoch 16] Training Loss: 0.054, Training Accuracy: 9093/12864 (70.7%), Test Loss: 0.104, Test Accuracy: 180/500 (36.0%) seconds per epoch: 682.3\n",
            "[Epoch 17] Training Loss: 0.048, Training Accuracy: 9253/12864 (71.9%), Test Loss: 0.095, Test Accuracy: 212/500 (42.4%) seconds per epoch: 694.5\n",
            "[Epoch 18] Training Loss: 0.044, Training Accuracy: 9466/12864 (73.6%), Test Loss: 0.091, Test Accuracy: 191/500 (38.2%) seconds per epoch: 687.2\n",
            "[Epoch 19] Training Loss: 0.042, Training Accuracy: 9432/12864 (73.3%), Test Loss: 0.086, Test Accuracy: 159/500 (31.8%) seconds per epoch: 661.6\n",
            "[Epoch 20] Training Loss: 0.037, Training Accuracy: 9629/12864 (74.9%), Test Loss: 0.083, Test Accuracy: 154/500 (30.8%) seconds per epoch: 669.6\n",
            "[Epoch 21] Training Loss: 0.036, Training Accuracy: 9596/12864 (74.6%), Test Loss: 0.075, Test Accuracy: 179/500 (35.8%) seconds per epoch: 684.7\n",
            "[Epoch 22] Training Loss: 0.036, Training Accuracy: 9441/12864 (73.4%), Test Loss: 0.072, Test Accuracy: 220/500 (44.0%) seconds per epoch: 620.2\n",
            "[Epoch 23] Training Loss: 0.035, Training Accuracy: 9409/12864 (73.1%), Test Loss: 0.070, Test Accuracy: 210/500 (42.0%) seconds per epoch: 649.3\n",
            "[Epoch 24] Training Loss: 0.032, Training Accuracy: 9578/12864 (74.5%), Test Loss: 0.070, Test Accuracy: 152/500 (30.4%) seconds per epoch: 656.2\n",
            "[Epoch 25] Training Loss: 0.031, Training Accuracy: 9471/12864 (73.6%), Test Loss: 0.058, Test Accuracy: 238/500 (47.6%) seconds per epoch: 632.4\n",
            "[Epoch 26] Training Loss: 0.029, Training Accuracy: 9655/12864 (75.1%), Test Loss: 0.059, Test Accuracy: 232/500 (46.4%) seconds per epoch: 645.1\n",
            "[Epoch 27] Training Loss: 0.027, Training Accuracy: 9753/12864 (75.8%), Test Loss: 0.055, Test Accuracy: 243/500 (48.6%) seconds per epoch: 616.8\n",
            "[Epoch 28] Training Loss: 0.027, Training Accuracy: 9710/12864 (75.5%), Test Loss: 0.050, Test Accuracy: 266/500 (53.2%) seconds per epoch: 614.0\n",
            "[Epoch 29] Training Loss: 0.025, Training Accuracy: 9791/12864 (76.1%), Test Loss: 0.054, Test Accuracy: 214/500 (42.8%) seconds per epoch: 644.8\n",
            "[Epoch 30] Training Loss: 0.024, Training Accuracy: 9787/12864 (76.1%), Test Loss: 0.048, Test Accuracy: 244/500 (48.8%) seconds per epoch: 645.5\n",
            "[Epoch 31] Training Loss: 0.026, Training Accuracy: 9538/12864 (74.1%), Test Loss: 0.047, Test Accuracy: 255/500 (51.0%) seconds per epoch: 645.8\n",
            "[Epoch 32] Training Loss: 0.023, Training Accuracy: 9809/12864 (76.3%), Test Loss: 0.044, Test Accuracy: 259/500 (51.8%) seconds per epoch: 641.0\n",
            "[Epoch 33] Training Loss: 0.024, Training Accuracy: 9554/12864 (74.3%), Test Loss: 0.041, Test Accuracy: 270/500 (54.0%) seconds per epoch: 636.5\n",
            "[Epoch 34] Training Loss: 0.022, Training Accuracy: 9630/12864 (74.9%), Test Loss: 0.037, Test Accuracy: 299/500 (59.8%) seconds per epoch: 641.4\n",
            "[Epoch 35] Training Loss: 0.020, Training Accuracy: 9985/12864 (77.6%), Test Loss: 0.037, Test Accuracy: 262/500 (52.4%) seconds per epoch: 604.4\n",
            "[Epoch 36] Training Loss: 0.020, Training Accuracy: 9828/12864 (76.4%), Test Loss: 0.036, Test Accuracy: 287/500 (57.4%) seconds per epoch: 633.2\n",
            "[Epoch 37] Training Loss: 0.020, Training Accuracy: 9876/12864 (76.8%), Test Loss: 0.035, Test Accuracy: 288/500 (57.6%) seconds per epoch: 645.5\n",
            "[Epoch 38] Training Loss: 0.019, Training Accuracy: 9831/12864 (76.4%), Test Loss: 0.034, Test Accuracy: 270/500 (54.0%) seconds per epoch: 653.3\n",
            "[Epoch 39] Training Loss: 0.019, Training Accuracy: 9792/12864 (76.1%), Test Loss: 0.030, Test Accuracy: 325/500 (65.0%) seconds per epoch: 659.1\n",
            "[Epoch 40] Training Loss: 0.018, Training Accuracy: 9829/12864 (76.4%), Test Loss: 0.031, Test Accuracy: 294/500 (58.8%) seconds per epoch: 677.3\n",
            "[Epoch 41] Training Loss: 0.018, Training Accuracy: 9818/12864 (76.3%), Test Loss: 0.027, Test Accuracy: 321/500 (64.2%) seconds per epoch: 692.5\n",
            "[Epoch 42] Training Loss: 0.017, Training Accuracy: 9908/12864 (77.0%), Test Loss: 0.029, Test Accuracy: 302/500 (60.4%) seconds per epoch: 689.7\n",
            "[Epoch 43] Training Loss: 0.016, Training Accuracy: 9978/12864 (77.6%), Test Loss: 0.025, Test Accuracy: 333/500 (66.6%) seconds per epoch: 676.2\n",
            "[Epoch 44] Training Loss: 0.016, Training Accuracy: 9986/12864 (77.6%), Test Loss: 0.027, Test Accuracy: 293/500 (58.6%) seconds per epoch: 640.1\n",
            "[Epoch 45] Training Loss: 0.016, Training Accuracy: 9791/12864 (76.1%), Test Loss: 0.028, Test Accuracy: 317/500 (63.4%) seconds per epoch: 584.3\n",
            "[Epoch 46] Training Loss: 0.015, Training Accuracy: 9930/12864 (77.2%), Test Loss: 0.026, Test Accuracy: 312/500 (62.4%) seconds per epoch: 602.8\n",
            "[Epoch 47] Training Loss: 0.015, Training Accuracy: 9938/12864 (77.3%), Test Loss: 0.025, Test Accuracy: 299/500 (59.8%) seconds per epoch: 632.6\n",
            "[Epoch 48] Training Loss: 0.014, Training Accuracy: 10057/12864 (78.2%), Test Loss: 0.020, Test Accuracy: 363/500 (72.6%) seconds per epoch: 604.6\n",
            "[Epoch 49] Training Loss: 0.013, Training Accuracy: 10212/12864 (79.4%), Test Loss: 0.018, Test Accuracy: 348/500 (69.6%) seconds per epoch: 594.9\n",
            "[Epoch 50] Training Loss: 0.013, Training Accuracy: 10284/12864 (79.9%), Test Loss: 0.021, Test Accuracy: 341/500 (68.2%) seconds per epoch: 610.2\n",
            "[Epoch 51] Training Loss: 0.012, Training Accuracy: 10255/12864 (79.7%), Test Loss: 0.021, Test Accuracy: 331/500 (66.2%) seconds per epoch: 606.5\n",
            "[Epoch 52] Training Loss: 0.012, Training Accuracy: 10191/12864 (79.2%), Test Loss: 0.020, Test Accuracy: 338/500 (67.6%) seconds per epoch: 597.7\n",
            "[Epoch 53] Training Loss: 0.012, Training Accuracy: 10166/12864 (79.0%), Test Loss: 0.018, Test Accuracy: 352/500 (70.4%) seconds per epoch: 675.4\n",
            "[Epoch 54] Training Loss: 0.012, Training Accuracy: 10199/12864 (79.3%), Test Loss: 0.018, Test Accuracy: 341/500 (68.2%) seconds per epoch: 603.4\n",
            "[Epoch 55] Training Loss: 0.011, Training Accuracy: 10327/12864 (80.3%), Test Loss: 0.019, Test Accuracy: 333/500 (66.6%) seconds per epoch: 606.6\n",
            "[Epoch 56] Training Loss: 0.011, Training Accuracy: 10345/12864 (80.4%), Test Loss: 0.016, Test Accuracy: 353/500 (70.6%) seconds per epoch: 678.7\n",
            "[Epoch 57] Training Loss: 0.011, Training Accuracy: 10344/12864 (80.4%), Test Loss: 0.017, Test Accuracy: 361/500 (72.2%) seconds per epoch: 678.9\n",
            "[Epoch 58] Training Loss: 0.010, Training Accuracy: 10529/12864 (81.8%), Test Loss: 0.017, Test Accuracy: 340/500 (68.0%) seconds per epoch: 678.8\n",
            "[Epoch 59] Training Loss: 0.009, Training Accuracy: 10552/12864 (82.0%), Test Loss: 0.018, Test Accuracy: 353/500 (70.6%) seconds per epoch: 675.6\n",
            "[Epoch 60] Training Loss: 0.009, Training Accuracy: 10519/12864 (81.8%), Test Loss: 0.014, Test Accuracy: 361/500 (72.2%) seconds per epoch: 674.1\n",
            "[Epoch 61] Training Loss: 0.009, Training Accuracy: 10582/12864 (82.3%), Test Loss: 0.014, Test Accuracy: 375/500 (75.0%) seconds per epoch: 687.5\n",
            "[Epoch 62] Training Loss: 0.009, Training Accuracy: 10479/12864 (81.5%), Test Loss: 0.015, Test Accuracy: 356/500 (71.2%) seconds per epoch: 681.5\n",
            "[Epoch 63] Training Loss: 0.009, Training Accuracy: 10492/12864 (81.6%), Test Loss: 0.015, Test Accuracy: 360/500 (72.0%) seconds per epoch: 691.7\n",
            "[Epoch 64] Training Loss: 0.010, Training Accuracy: 10365/12864 (80.6%), Test Loss: 0.012, Test Accuracy: 378/500 (75.6%) seconds per epoch: 644.6\n",
            "[Epoch 65] Training Loss: 0.009, Training Accuracy: 10546/12864 (82.0%), Test Loss: 0.013, Test Accuracy: 370/500 (74.0%) seconds per epoch: 682.5\n",
            "[Epoch 66] Training Loss: 0.008, Training Accuracy: 10621/12864 (82.6%), Test Loss: 0.012, Test Accuracy: 379/500 (75.8%) seconds per epoch: 692.4\n",
            "[Epoch 67] Training Loss: 0.008, Training Accuracy: 10697/12864 (83.2%), Test Loss: 0.014, Test Accuracy: 350/500 (70.0%) seconds per epoch: 694.9\n",
            "[Epoch 68] Training Loss: 0.008, Training Accuracy: 10650/12864 (82.8%), Test Loss: 0.011, Test Accuracy: 372/500 (74.4%) seconds per epoch: 695.2\n",
            "[Epoch 69] Training Loss: 0.008, Training Accuracy: 10670/12864 (82.9%), Test Loss: 0.014, Test Accuracy: 339/500 (67.8%) seconds per epoch: 613.2\n",
            "[Epoch 70] Training Loss: 0.008, Training Accuracy: 10664/12864 (82.9%), Test Loss: 0.012, Test Accuracy: 381/500 (76.2%) seconds per epoch: 634.3\n",
            "[Epoch 71] Training Loss: 0.008, Training Accuracy: 10635/12864 (82.7%), Test Loss: 0.012, Test Accuracy: 367/500 (73.4%) seconds per epoch: 605.8\n",
            "[Epoch 72] Training Loss: 0.008, Training Accuracy: 10407/12864 (80.9%), Test Loss: 0.012, Test Accuracy: 359/500 (71.8%) seconds per epoch: 606.2\n",
            "[Epoch 73] Training Loss: 0.009, Training Accuracy: 10318/12864 (80.2%), Test Loss: 0.012, Test Accuracy: 368/500 (73.6%) seconds per epoch: 615.2\n",
            "[Epoch 74] Training Loss: 0.008, Training Accuracy: 10442/12864 (81.2%), Test Loss: 0.012, Test Accuracy: 371/500 (74.2%) seconds per epoch: 558.8\n",
            "[Epoch 75] Training Loss: 0.008, Training Accuracy: 10459/12864 (81.3%), Test Loss: 0.010, Test Accuracy: 381/500 (76.2%) seconds per epoch: 562.8\n",
            "[Epoch 76] Training Loss: 0.008, Training Accuracy: 10426/12864 (81.0%), Test Loss: 0.010, Test Accuracy: 381/500 (76.2%) seconds per epoch: 564.6\n",
            "[Epoch 77] Training Loss: 0.007, Training Accuracy: 10523/12864 (81.8%), Test Loss: 0.011, Test Accuracy: 389/500 (77.8%) seconds per epoch: 635.7\n",
            "[Epoch 78] Training Loss: 0.008, Training Accuracy: 10448/12864 (81.2%), Test Loss: 0.011, Test Accuracy: 370/500 (74.0%) seconds per epoch: 582.1\n",
            "[Epoch 79] Training Loss: 0.008, Training Accuracy: 10344/12864 (80.4%), Test Loss: 0.011, Test Accuracy: 361/500 (72.2%) seconds per epoch: 563.9\n",
            "[Epoch 80] Training Loss: 0.007, Training Accuracy: 10471/12864 (81.4%), Test Loss: 0.010, Test Accuracy: 379/500 (75.8%) seconds per epoch: 572.4\n",
            "[Epoch 81] Training Loss: 0.008, Training Accuracy: 10389/12864 (80.8%), Test Loss: 0.011, Test Accuracy: 374/500 (74.8%) seconds per epoch: 585.5\n",
            "[Epoch 82] Training Loss: 0.007, Training Accuracy: 10479/12864 (81.5%), Test Loss: 0.009, Test Accuracy: 383/500 (76.6%) seconds per epoch: 613.5\n",
            "[Epoch 83] Training Loss: 0.007, Training Accuracy: 10475/12864 (81.4%), Test Loss: 0.009, Test Accuracy: 385/500 (77.0%) seconds per epoch: 632.3\n",
            "[Epoch 84] Training Loss: 0.007, Training Accuracy: 10613/12864 (82.5%), Test Loss: 0.009, Test Accuracy: 394/500 (78.8%) seconds per epoch: 631.2\n",
            "[Epoch 85] Training Loss: 0.007, Training Accuracy: 10415/12864 (81.0%), Test Loss: 0.009, Test Accuracy: 385/500 (77.0%) seconds per epoch: 613.1\n",
            "[Epoch 86] Training Loss: 0.007, Training Accuracy: 10475/12864 (81.4%), Test Loss: 0.008, Test Accuracy: 386/500 (77.2%) seconds per epoch: 600.4\n",
            "[Epoch 87] Training Loss: 0.007, Training Accuracy: 10295/12864 (80.0%), Test Loss: 0.010, Test Accuracy: 372/500 (74.4%) seconds per epoch: 627.6\n",
            "[Epoch 88] Training Loss: 0.008, Training Accuracy: 10145/12864 (78.9%), Test Loss: 0.010, Test Accuracy: 380/500 (76.0%) seconds per epoch: 640.2\n",
            "[Epoch 89] Training Loss: 0.007, Training Accuracy: 10216/12864 (79.4%), Test Loss: 0.008, Test Accuracy: 376/500 (75.2%) seconds per epoch: 645.1\n",
            "[Epoch 90] Training Loss: 0.007, Training Accuracy: 10283/12864 (79.9%), Test Loss: 0.009, Test Accuracy: 376/500 (75.2%) seconds per epoch: 645.6\n",
            "[Epoch 91] Training Loss: 0.007, Training Accuracy: 10303/12864 (80.1%), Test Loss: 0.008, Test Accuracy: 395/500 (79.0%) seconds per epoch: 634.9\n",
            "[Epoch 92] Training Loss: 0.007, Training Accuracy: 10268/12864 (79.8%), Test Loss: 0.009, Test Accuracy: 361/500 (72.2%) seconds per epoch: 633.9\n",
            "[Epoch 93] Training Loss: 0.007, Training Accuracy: 10222/12864 (79.5%), Test Loss: 0.009, Test Accuracy: 375/500 (75.0%) seconds per epoch: 637.1\n",
            "[Epoch 94] Training Loss: 0.007, Training Accuracy: 10189/12864 (79.2%), Test Loss: 0.009, Test Accuracy: 371/500 (74.2%) seconds per epoch: 629.8\n",
            "[Epoch 95] Training Loss: 0.007, Training Accuracy: 10200/12864 (79.3%), Test Loss: 0.008, Test Accuracy: 392/500 (78.4%) seconds per epoch: 619.9\n",
            "[Epoch 96] Training Loss: 0.007, Training Accuracy: 10269/12864 (79.8%), Test Loss: 0.009, Test Accuracy: 374/500 (74.8%) seconds per epoch: 624.4\n",
            "[Epoch 97] Training Loss: 0.007, Training Accuracy: 10098/12864 (78.5%), Test Loss: 0.008, Test Accuracy: 391/500 (78.2%) seconds per epoch: 629.2\n",
            "[Epoch 98] Training Loss: 0.007, Training Accuracy: 10224/12864 (79.5%), Test Loss: 0.008, Test Accuracy: 374/500 (74.8%) seconds per epoch: 620.8\n",
            "[Epoch 99] Training Loss: 0.007, Training Accuracy: 10248/12864 (79.7%), Test Loss: 0.008, Test Accuracy: 391/500 (78.2%) seconds per epoch: 627.6\n"
          ],
          "name": "stdout"
        }
      ]
    },
    {
      "cell_type": "markdown",
      "metadata": {
        "id": "Fjh_CqS_rbv4"
      },
      "source": [
        "### Visualize accuracy/loss"
      ]
    },
    {
      "cell_type": "code",
      "metadata": {
        "id": "8fd8Jtc5JSY9",
        "colab": {
          "base_uri": "https://localhost:8080/",
          "height": 558
        },
        "outputId": "16aca101-5bf8-4140-9de2-64a8975f58f0"
      },
      "source": [
        "plt.figure()\n",
        "plt.plot(np.arange(epochCount), trainStats.accuracies.makeNumpyArray(), label:\"Train\")\n",
        "plt.plot(np.arange(epochCount), testStats.accuracies.makeNumpyArray(),  label:\"Validation\")\n",
        "plt.xlabel(\"epochs\")\n",
        "plt.ylabel(\"ImageNet accuracy\")\n",
        "plt.legend(loc:\"best\")\n",
        "\n",
        "plt.figure()\n",
        "plt.plot(np.arange(epochCount), trainStats.averageLosses.makeNumpyArray(), label:\"Train\")\n",
        "plt.plot(np.arange(epochCount), testStats.averageLosses.makeNumpyArray(),  label:\"Validation\")\n",
        "plt.xlabel(\"epochs\")\n",
        "plt.ylabel(\"ImageNet loss\")\n",
        "plt.legend(loc:\"best\")\n",
        "plt.show()"
      ],
      "execution_count": null,
      "outputs": [
        {
          "output_type": "display_data",
          "data": {
            "image/png": "[encoded data removed]",
            "text/plain": [
              "<Figure size 432x288 with 1 Axes>"
            ]
          },
          "metadata": {
            "tags": [],
            "needs_background": "light"
          }
        },
        {
          "output_type": "display_data",
          "data": {
            "image/png": "[encoded data removed]",
            "text/plain": [
              "<Figure size 432x288 with 1 Axes>"
            ]
          },
          "metadata": {
            "tags": [],
            "needs_background": "light"
          }
        },
        {
          "output_type": "execute_result",
          "data": {
            "text/plain": [
              "Use `print()` to show values.\n"
            ]
          },
          "metadata": {
            "tags": []
          },
          "execution_count": 14
        }
      ]
    },
    {
      "cell_type": "code",
      "metadata": {
        "colab": {
          "base_uri": "https://localhost:8080/"
        },
        "id": "rA33zP13fe_V",
        "outputId": "fdaab628-8ed3-4c03-e1fd-a784595ede69"
      },
      "source": [
        "print(\"Average epoch train time: \", trainStats.avgEpochTrainTime)"
      ],
      "execution_count": null,
      "outputs": [
        {
          "output_type": "stream",
          "text": [
            "Average epoch train time:  633.2480921769144\r\n"
          ],
          "name": "stdout"
        }
      ]
    }
  ]
}